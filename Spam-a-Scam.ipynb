{
 "cells": [
  {
   "cell_type": "code",
   "execution_count": null,
   "id": "37ab0d97",
   "metadata": {},
   "outputs": [],
   "source": [
    "import requests\n",
    "import random\n",
    "import string"
   ]
  },
  {
   "cell_type": "code",
   "execution_count": null,
   "id": "762a3fa1",
   "metadata": {},
   "outputs": [],
   "source": [
    "def make_post_request(url, data):\n",
    "  \"\"\"Makes a POST request to the given URL with the given data.\n",
    "\n",
    "  Args:\n",
    "    url: The URL to make the POST request to.\n",
    "    data: A dictionary of data to send in the POST request.\n",
    "\n",
    "  Returns:\n",
    "    A response object.\n",
    "  \"\"\"\n",
    "\n",
    "  headers = {\n",
    "    \"Content-Type\": \"application/x-www-form-urlencoded\",\n",
    "    \"Upgrade-Insecure-Requests\":\"1\",\n",
    "    \"User-Agent\": \"Mozilla/5.0 (Windows NT 10.0; Win64; x64) AppleWebKit/537.36 (KHTML, like Gecko) Chrome/117.0.0.0 Safari/537.36 Edg/117.0.2045.60\"\n",
    "  }\n",
    "\n",
    "  response = requests.post(url, json=data, headers=headers)\n",
    "  return response\n",
    "\n",
    "def random_email():\n",
    "  \"\"\"Genera una cadena aleatoria que cumple con el formato de correo electrónico.\"\"\"\n",
    "\n",
    "  username = \"\".join(random.choices(string.ascii_lowercase + string.digits, k=10))\n",
    "  domain = \"\".join(random.choices(string.ascii_lowercase + string.digits, k=3))\n",
    "  return \"{}@{}.com\".format(username, domain)\n",
    "\n",
    "def random_password(length=12):\n",
    "  \"\"\"Genera una contraseña aleatoria.\"\"\"\n",
    "\n",
    "  return \"\".join(random.choices(string.ascii_lowercase + string.digits , k=length))\n"
   ]
  },
  {
   "cell_type": "code",
   "execution_count": null,
   "id": "5dc82745",
   "metadata": {},
   "outputs": [],
   "source": [
    "url = \"url\"\n",
    "\n",
    "times = 10000\n",
    "payload_email = \"primiparo\"\n",
    "payload_password = \"ordensegunda\"\n",
    "\n",
    "for i in range(times):\n",
    "  data = {\n",
    "    payload_email : random_email(),\n",
    "    payload_password: random_password()\n",
    "  }\n",
    "\n",
    "response = make_post_request(url, data)\n",
    "\n",
    "for data in range(times):\n",
    "  response = make_post_request(url, data)\n",
    "\n",
    "  if response.status_code == 200:\n",
    "    print(\"POST request successful!\")\n",
    "\n",
    "  else:\n",
    "    print(\"POST request failed: {}\".format(response.status_code))"
   ]
  }
 ],
 "metadata": {
  "kernelspec": {
   "display_name": "Python 3 (ipykernel)",
   "language": "python",
   "name": "python3"
  },
  "language_info": {
   "codemirror_mode": {
    "name": "ipython",
    "version": 3
   },
   "file_extension": ".py",
   "mimetype": "text/x-python",
   "name": "python",
   "nbconvert_exporter": "python",
   "pygments_lexer": "ipython3",
   "version": "3.11.4"
  }
 },
 "nbformat": 4,
 "nbformat_minor": 5
}
